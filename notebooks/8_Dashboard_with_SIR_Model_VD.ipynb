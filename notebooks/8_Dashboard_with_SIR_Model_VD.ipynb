{
 "cells": [
  {
   "cell_type": "markdown",
   "metadata": {},
   "source": [
    "![](CRISP_DM.png)"
   ]
  },
  {
   "cell_type": "code",
   "execution_count": null,
   "metadata": {},
   "outputs": [],
   "source": [
    "#importing required packages\n",
    "import os\n",
    "import pandas as pd\n",
    "import numpy as np\n",
    "from datetime import datetime\n",
    "from scipy import optimize\n",
    "from scipy import integrate\n",
    "import random\n",
    "#for plotting\n",
    "import matplotlib as mpl\n",
    "import matplotlib.pyplot as plt\n",
    "import plotly.graph_objects as go\n",
    "# for dashboard\n",
    "import dash\n",
    "import dash_core_components as dcc\n",
    "import dash_html_components as html\n",
    "from dash.dependencies import Input, Output,State\n",
    "# set parameter for plotting \n",
    "mpl.rcParams['figure.figsize'] = (16, 9)"
   ]
  },
  {
   "cell_type": "code",
   "execution_count": null,
   "metadata": {},
   "outputs": [],
   "source": [
    "#Set a base path in such way that full execuation will be possible with one click\n",
    "if os.path.split(os.getcwd())[-1]=='notebooks':\n",
    "    os.chdir('C:/Users/dhame/ds_covid-19/')\n",
    "\n",
    "'Your base path for this project is: '+os.path.split(os.getcwd())[-1]"
   ]
  },
  {
   "cell_type": "code",
   "execution_count": null,
   "metadata": {},
   "outputs": [],
   "source": [
    "# import local file to create dataframe and set date in ascending order\n",
    "df_analyse=pd.read_csv('data/processed/COVID_small_flat_table.csv',sep=';')  \n",
    "df_analyse.sort_values('date',ascending=True).head()"
   ]
  },
  {
   "cell_type": "markdown",
   "metadata": {},
   "source": [
    "## 8.1 Simulative approach to calculate SIR curves\n",
    "* The SIR model is a simple model, due to Kermack and McKendrick, of an epidemic of an infectious disease in a large population. We assume the population consists of three types of individuals, whose numbers are denoted by the letters S(suspectible), I (infected)and R (recovered).\n",
    "* To check SIR model, click on the link: [SIR Model for Spread of Disease](https://www.maa.org/press/periodicals/loci/joma/the-sir-model-for-spread-of-disease-the-differential-equation-model)."
   ]
  },
  {
   "cell_type": "code",
   "execution_count": null,
   "metadata": {},
   "outputs": [],
   "source": [
    "# set some basic parameters\n",
    "# beta and gamma are required to calculate change in suspectible & recovered cases respectively &\n",
    "# denoted as  'basic reproduction number'\n",
    "\n",
    "N0=1000000 # Assume: max susceptible population\n",
    "beta=0.4   # Assume: change in infection spread dynamics\n",
    "gamma=0.1  # Assume: recovery rate\n",
    "\n",
    "# starting condition condition I0+S0+R0=N0\n",
    "I0=df_analyse.Germany[35] # we cannot calculat if there is zero number of cases \n",
    "S0=N0-I0\n",
    "R0=0"
   ]
  },
  {
   "cell_type": "code",
   "execution_count": null,
   "metadata": {},
   "outputs": [],
   "source": [
    "#define SIR model function for calculating changes in respective cases\n",
    "def cal_SIR_model(SIR,beta,gamma):\n",
    "    ''' Simple SIR model\n",
    "        S: susceptible population\n",
    "        I: infected people\n",
    "        R: recovered people\n",
    "        beta: \n",
    "        \n",
    "        overall condition is that the sum of changes (differnces) sum up to 0\n",
    "        dS+dI+dR=0\n",
    "        S+I+R= N (constant size of population)\n",
    "    \n",
    "    '''  \n",
    "    S,I,R=SIR\n",
    "    dS_dt=-beta*S*I/N0          \n",
    "    dI_dt=beta*S*I/N0-gamma*I\n",
    "    dR_dt=gamma*I\n",
    "    return([dS_dt,dI_dt,dR_dt])"
   ]
  },
  {
   "cell_type": "code",
   "execution_count": null,
   "metadata": {},
   "outputs": [],
   "source": [
    "# initiate sir model with assumed parameter\n",
    "SIR=np.array([S0,I0,R0])\n",
    "propagation_rates=pd.DataFrame(columns={'susceptible':S0,'infected':I0,'recoverd':R0})\n",
    "\n",
    "for each_t in np.arange(100):\n",
    "    new_delta_vec=cal_SIR_model(SIR,beta,gamma)\n",
    "    SIR=SIR+new_delta_vec\n",
    "    propagation_rates=propagation_rates.append({'susceptible':SIR[0],'infected':SIR[1],\n",
    "                                                'recovered':SIR[2]}, ignore_index=True)"
   ]
  },
  {
   "cell_type": "code",
   "execution_count": null,
   "metadata": {},
   "outputs": [],
   "source": [
    "fig, ax1 = plt.subplots(1, 1)\n",
    "ax1.plot(propagation_rates.index,propagation_rates.infected,label='infected',color='b')\n",
    "ax1.plot(propagation_rates.index,propagation_rates.recovered,label='recovered', color ='r')\n",
    "ax1.plot(propagation_rates.index,propagation_rates.susceptible,label='susceptible', color ='y')\n",
    "\n",
    "ax1.set_ylim(10, 1000000)\n",
    "ax1.set_yscale('linear')\n",
    "ax1.set_title('Scenario SIR simulations (Only for visualization)',size=16)\n",
    "ax1.set_xlabel('Timelinee in days',size=16)\n",
    "ax1.set_ylabel('Total infected cases', size=16)\n",
    "ax1.legend(loc='best',prop={'size': 16});"
   ]
  },
  {
   "cell_type": "markdown",
   "metadata": {},
   "source": [
    "## 8.1.1 Calculate fitting the parameters of SIR model\n",
    "* In above plot, we assumed beta and gamma parameter. In this section, we are going to calculate that fitting parameter for sir model for real world dataset."
   ]
  },
  {
   "cell_type": "code",
   "execution_count": null,
   "metadata": {},
   "outputs": [],
   "source": [
    "# skip the starting datas beacause it contains 0 and doesnot help in calculation\n",
    "ydata = np.array(df_analyse.Germany[35:])\n",
    "t=np.arange(len(ydata))"
   ]
  },
  {
   "cell_type": "code",
   "execution_count": null,
   "metadata": {},
   "outputs": [],
   "source": [
    "# ensure re-initialization \n",
    "I0=ydata[0]\n",
    "S0=N0-I0\n",
    "R0=0"
   ]
  },
  {
   "cell_type": "code",
   "execution_count": null,
   "metadata": {},
   "outputs": [],
   "source": [
    "# define SI _Model_t, where the independent variable is time  t,  measured in days.\n",
    "def cal_SIR_model_t(SIR,t,beta,gamma):\n",
    "    S,I,R=SIR\n",
    "    dS_dt=-beta*S*I/N0      \n",
    "    dI_dt=beta*S*I/N0-gamma*I\n",
    "    dR_dt=gamma*I\n",
    "    return dS_dt,dI_dt,dR_dt\n",
    "# defining helper function for the integration calculation\n",
    "def fit_odeint_func(x, beta, gamma):\n",
    "    return integrate.odeint(cal_SIR_model_t, (S0, I0, R0), t, args=(beta, gamma))[:,1]"
   ]
  },
  {
   "cell_type": "code",
   "execution_count": null,
   "metadata": {},
   "outputs": [],
   "source": [
    "# example curve of our differential equation\n",
    "popt=[0.4,0.1] # intial parameter variable\n",
    "# we used '*popt' for passing variable in list file \n",
    "# if you have variable in dictionary or tuple format that you can use '**popt' instead of '*popt'\n",
    "fit_odeint_func(t, *popt)"
   ]
  },
  {
   "cell_type": "code",
   "execution_count": null,
   "metadata": {},
   "outputs": [],
   "source": [
    "# Now the resulting curve has to be fitted free parameters are here beta and gamma\n",
    "popt, pcov = optimize.curve_fit(fit_odeint_func, t, ydata)\n",
    "perr = np.sqrt(np.diag(pcov))\n",
    "\n",
    "print('standard deviation errors : ',str(perr), ' start infect:',ydata[0])\n",
    "print(\"Optimal parameters: beta =\", popt[0], \" and gamma = \", popt[1])"
   ]
  },
  {
   "cell_type": "code",
   "execution_count": null,
   "metadata": {},
   "outputs": [],
   "source": [
    "# Now, we will perfrom calculation for the final fitted curve\n",
    "fitted_curve=fit_odeint_func(t, *popt)"
   ]
  },
  {
   "cell_type": "code",
   "execution_count": null,
   "metadata": {},
   "outputs": [],
   "source": [
    "# plot the oringal data and fitted data for germany\n",
    "plt.semilogy(t, ydata, '*')\n",
    "plt.semilogy(t, fitted_curve)\n",
    "plt.title('Fitted SIR model [Only for Germany]')\n",
    "plt.ylabel('Infected Population in numbers')\n",
    "plt.xlabel('Timeline in Days')\n",
    "plt.show()\n",
    "print('+ Calculated optimal parameters: beta =', popt[0], ' and gamma = ', popt[1])\n",
    "print('+ Basic Reproduction Number R0 = ', popt[0]/popt[1])\n",
    "print('+ R0 is a mathematical term that indicates how contagious an infectious disease is.')\n",
    "print('+ This ratio is derived as the expected number of new infections')"
   ]
  },
  {
   "cell_type": "markdown",
   "metadata": {},
   "source": [
    "## 8.2  Dynamic beta in SIR with lockdown period"
   ]
  },
  {
   "cell_type": "code",
   "execution_count": null,
   "metadata": {},
   "outputs": [],
   "source": [
    "t_initial=28 # For germany, when infected cases were rising\n",
    "t_intro_measures=14 # Time period, when lockdown was introduced \n",
    "t_hold=21 # Time period, when lockdown was holded \n",
    "t_relax=21 # Time period, when lockdown was easen\n",
    "\n",
    "beta_max=0.4 # max_value of parameter for infected cases\n",
    "beta_min=0.11 # min_value of parameter for infected cases\n",
    "gamma=0.1 # parameter value for recovered cases\n",
    "# concatenate all parameter with their relatable time period\n",
    "pd_beta=np.concatenate((np.array(t_initial*[beta_max]),\n",
    "                       np.linspace(beta_max,beta_min,t_intro_measures),\n",
    "                       np.array(t_hold*[beta_min]),\n",
    "                        np.linspace(beta_min,beta_max,t_relax)))"
   ]
  },
  {
   "cell_type": "code",
   "execution_count": null,
   "metadata": {},
   "outputs": [],
   "source": [
    "# check above setted parameter for relatable time period\n",
    "pd_beta"
   ]
  },
  {
   "cell_type": "code",
   "execution_count": null,
   "metadata": {},
   "outputs": [],
   "source": [
    "# intialize the sir model \n",
    "SIR=np.array([S0,I0,R0])\n",
    "propagation_rates=pd.DataFrame(columns={'susceptible':S0,'infected':I0,'recoverd':R0})\n",
    "\n",
    "# calculate propagated rates and append them into dataframe\n",
    "for each_beta in pd_beta:\n",
    "    new_delta_vec=cal_SIR_model(SIR,each_beta,gamma)\n",
    "    SIR=SIR+new_delta_vec\n",
    "    propagation_rates=propagation_rates.append({'susceptible':SIR[0],'infected':SIR[1],\n",
    "                                                'recovered':SIR[2]}, ignore_index=True)"
   ]
  },
  {
   "cell_type": "code",
   "execution_count": null,
   "metadata": {},
   "outputs": [],
   "source": [
    "# plotting the dynamic beta in SIR model \n",
    "fig, ax1 = plt.subplots(1, 1);\n",
    "\n",
    "ax1.plot(propagation_rates.index,propagation_rates.infected,label='infected',linewidth=3);\n",
    "\n",
    "t_phases=np.array([t_initial,t_intro_measures,t_hold,t_relax]).cumsum()\n",
    "ax1.bar(np.arange(len(ydata)),ydata, width=0.8,label=' current infected Germany',color='w')\n",
    "ax1.axvspan(0,t_phases[0], facecolor='b', alpha=0.2,label='no measures', color = 'b')\n",
    "ax1.axvspan(t_phases[0],t_phases[1], facecolor='b', alpha=0.3,label='hard measures introduced', color = 'r')\n",
    "ax1.axvspan(t_phases[1],t_phases[2], facecolor='b', alpha=0.4,label='hold measures', color = 'y')\n",
    "ax1.axvspan(t_phases[2],t_phases[3], facecolor='b', alpha=0.5,label='relax measures', color = 'g')\n",
    "ax1.axvspan(t_phases[3],len(propagation_rates.infected), facecolor='b', alpha=0.6,label='repeat hard measures')\n",
    "\n",
    "ax1.set_ylim(10, 1.5*max(propagation_rates.infected))\n",
    "ax1.set_yscale('log')\n",
    "ax1.set_title('Dynamic beta in SIR simulations[Only for Germany]',size=16)\n",
    "ax1.set_xlabel('Timeline in Days',size=16)\n",
    "ax1.legend(loc='best',prop={'size': 16});"
   ]
  },
  {
   "cell_type": "markdown",
   "metadata": {},
   "source": [
    "## 8.3 Dash App for SIR model\n",
    "* we will use the large dataset file containing multiple countries (more than 100)"
   ]
  },
  {
   "cell_type": "markdown",
   "metadata": {},
   "source": [
    "### 8.3.1 Data preparation"
   ]
  },
  {
   "cell_type": "code",
   "execution_count": null,
   "metadata": {},
   "outputs": [],
   "source": [
    "#importing data frame\n",
    "data_raw = pd.read_csv('data/raw/COVID-19/csse_covid_19_data/csse_covid_19_time_series/time_series_covid19_confirmed_global.csv')\n",
    "country_list = data_raw['Country/Region'].unique() #making country_list\n",
    "date = data_raw.columns[4:]\n",
    "df_dhameli = pd.DataFrame({'Date': date})\n",
    "\n",
    "#converting data_raw DataFrame into format that we can use for SIR algorithm\n",
    "for each in country_list:\n",
    "    df_dhameli[each] = np.array(data_raw[data_raw['Country/Region'] == each].iloc[:,4::].sum(axis=0)).T\n",
    "df_dhameli.to_csv('data/raw/COVID-19/csse_covid_19_data/SIR.csv', sep = ';', index=False)\n",
    "\n",
    "df_analyse=pd.read_csv('data/raw/COVID-19/csse_covid_19_data/SIR.csv',sep=';')\n",
    "df_analyse.sort_values('Date',ascending=True).head()"
   ]
  },
  {
   "cell_type": "markdown",
   "metadata": {},
   "source": [
    "### 8.3.2 SIR model and fitted curve parameter for all countries"
   ]
  },
  {
   "cell_type": "code",
   "execution_count": null,
   "metadata": {},
   "outputs": [],
   "source": [
    "# Intialize parameter\n",
    "N0 = 1000000\n",
    "beta = 0.4\n",
    "gamma = 0.1\n",
    "I0=df_analyse.Germany[35]\n",
    "S0=N0-I0\n",
    "R0=0\n",
    "\n",
    "df_data = df_analyse[35:] # need to careful here because it difffers from each country!! But I solved it below\n",
    "t = np.arange(df_data.shape[0])\n",
    "\n",
    "#calculating optimize parameters for every country\n",
    "for country in df_data.columns[1:]:\n",
    "        ydata = np.array(df_data[df_data[country]>0][country]) ## consider only value, which greater than zero to solve above mentioned problem\n",
    "        t = np.arange(len(ydata))\n",
    "        I0=ydata[0]\n",
    "        S0=N0-I0\n",
    "        R0=0\n",
    "        popt=[0.4,0.1]\n",
    "        fit_odeint_func(t, *popt)\n",
    "        popt, pcov = optimize.curve_fit(fit_odeint_func, t, ydata, maxfev=5000)\n",
    "        perr = np.sqrt(np.diag(pcov))\n",
    "        fitted=fit_odeint_func(t, *popt)\n",
    "        fitted_pad = np.concatenate((np.zeros(df_data.shape[0]-len(fitted)) ,fitted))\n",
    "        df_data[country + '_fitted'] = fitted_pad\n",
    "\n",
    "df_data = df_data.reset_index(drop=True)\n",
    "df_data.to_csv('data/processed/SIR_fitted.csv', sep = ';')"
   ]
  },
  {
   "cell_type": "code",
   "execution_count": null,
   "metadata": {},
   "outputs": [],
   "source": [
    "#creating plot for germany to see that our calculation works\n",
    "fig = go.Figure()\n",
    "fig.add_trace(go.Scatter(x = df_data['Date'],y = df_data['Germany_fitted'],name= 'fitted_germany',\n",
    "                             mode='markers+lines',line_width = 1,marker_size = 3),\n",
    "             )\n",
    "\n",
    "fig.add_trace(go.Scatter(x = df_data['Date'],y = df_data['Germany'],name= 'source_germany',\n",
    "                             mode='markers+lines',line_width = 1,marker_size = 3),\n",
    "                 )\n",
    "\n",
    "fig.update_layout(title={'text': 'SIR fitted curve with confirmed cases [Only for Germany]','y':0.9,'x':0.5,'xanchor': 'center','yanchor': 'top'},\n",
    "                  xaxis_title='Timeline in Days', yaxis_title='Total cases of infected people',width=800, height=600)\n",
    "fig.update_yaxes(type = 'log')\n",
    "fig.update_layout(xaxis_rangeslider_visible=True)"
   ]
  },
  {
   "cell_type": "code",
   "execution_count": null,
   "metadata": {},
   "outputs": [],
   "source": [
    "# for showing same color for each countries both curve, and color will be random at when you update the color list\n",
    "color_list = []\n",
    "for i in range(200):\n",
    "    var = '#%02x%02x%02x'%(random.randint(0,255),random.randint(0,255),random.randint(0,255))\n",
    "    color_list.append(var)"
   ]
  },
  {
   "cell_type": "code",
   "execution_count": null,
   "metadata": {},
   "outputs": [],
   "source": [
    "# creating dashboard app containig plotting of source and fitted SIR curve data for whole dataset\n",
    "fig = go.Figure()\n",
    "app = dash.Dash()\n",
    "app.layout = html.Div([\n",
    "\n",
    "    dcc.Markdown('''\n",
    "    #  Data Science Project @ TU_KL on COVID-19 Dataset-Part 2\n",
    "    ## Real and simulated number of infected people\n",
    "\n",
    "    * The default layout contains the confirmed infected cases in the log-scale format on the Y-axis\n",
    "    and Timeline in Days on the X-axis.\n",
    "    ### The dropdown menu enables selection of one or multiple countries for visualization.\n",
    "\n",
    "    * This dashboard plots two curves for each country:\n",
    "    \n",
    "    1. The first curve represents the confirmed infected cases along the timeline.\n",
    "    2. The second curve represents the simulated infected cases after applying the SIR model along the timeline. \n",
    "    \n",
    "    '''),\n",
    "\n",
    "    dcc.Markdown('''\n",
    "    ## Multi-Select Country for visualization\n",
    "    '''),\n",
    "    dcc.Dropdown(\n",
    "        id='country_drop_down',\n",
    "        options=[ {'label': each,'value':each} for each in df_data.columns[1:200]],\n",
    "        value=['Germany','India'], # which are pre-selected\n",
    "        multi=True),dcc.Graph(figure=fig, id='main_window_slope')])\n",
    "\n",
    "@app.callback(\n",
    "    Output('main_window_slope', 'figure'),\n",
    "    [Input('country_drop_down', 'value')])\n",
    "def update_figure(country_list):\n",
    "    v = 0\n",
    "    my_yaxis={'type':\"log\",'title':'Confirmed infected people (From johns hopkins csse, log-scale)'}\n",
    "    traces = []\n",
    "    for each in country_list:\n",
    "        traces.append(dict(x=df_data['Date'],y=df_data[each],\n",
    "                                mode='line', line = dict(color = color_list[v]), opacity=1.0,name=each))\n",
    "        traces.append(dict(x=df_data['Date'],\n",
    "                                y=df_data[each+'_fitted'],\n",
    "                                mode='markers+lines',line = dict(color=color_list[v]), opacity=1.0,name=each+'_simulated'))\n",
    "\n",
    "        v = v+1\n",
    "    return {\n",
    "            'data': traces,\n",
    "            'layout': dict (\n",
    "                width=1280,height=720,\n",
    "                xaxis={'title':'Timeline','tickangle':-45,'nticks':20,\n",
    "                'tickfont':dict(size=14,color=\"#0c6887\"),},yaxis=my_yaxis)}\n",
    "\n",
    "if __name__ == '__main__':\n",
    "    app.run_server(debug=True, use_reloader=False)\n"
   ]
  },
  {
   "cell_type": "code",
   "execution_count": null,
   "metadata": {},
   "outputs": [],
   "source": []
  }
 ],
 "metadata": {
  "kernelspec": {
   "display_name": "Python 3",
   "language": "python",
   "name": "python3"
  },
  "language_info": {
   "codemirror_mode": {
    "name": "ipython",
    "version": 3
   },
   "file_extension": ".py",
   "mimetype": "text/x-python",
   "name": "python",
   "nbconvert_exporter": "python",
   "pygments_lexer": "ipython3",
   "version": "3.6.7"
  }
 },
 "nbformat": 4,
 "nbformat_minor": 4
}
