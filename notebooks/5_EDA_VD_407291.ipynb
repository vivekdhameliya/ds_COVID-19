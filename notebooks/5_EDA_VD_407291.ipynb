{
 "cells": [
  {
   "cell_type": "markdown",
   "metadata": {},
   "source": [
    "![](CRISP_DM.png)"
   ]
  },
  {
   "cell_type": "code",
   "execution_count": null,
   "metadata": {},
   "outputs": [],
   "source": [
    "# importing requires \n",
    "import pandas as pd\n",
    "import numpy as np\n",
    "# for plotting\n",
    "%matplotlib inline\n",
    "import matplotlib as mpl\n",
    "import matplotlib.pyplot as plt\n",
    "import seaborn as sns\n",
    "import plotly\n",
    "print('Your current Plotly version is:' +plotly.__version__)#checking current plotly version\n",
    "import plotly.graph_objects as go\n",
    "from IPython.core.interactiveshell import InteractiveShell\n",
    "InteractiveShell.ast_node_interactivity = \"all\"\n",
    "# setup parameters for graph plotting\n",
    "mpl.rcParams['figure.figsize'] = (16, 9)\n",
    "pd.set_option('display.max_rows', 500)\n",
    "sns.set(style=\"darkgrid\")"
   ]
  },
  {
   "cell_type": "code",
   "execution_count": null,
   "metadata": {},
   "outputs": [],
   "source": [
    "# importing requiring packages for dynamic dashboard\n",
    "import dash\n",
    "print('Your current version of Dash package is: ' +dash.__version__)\n",
    "import dash_core_components as dcc\n",
    "import dash_html_components as html\n",
    "from dash.dependencies import Input, Output"
   ]
  },
  {
   "cell_type": "markdown",
   "metadata": {},
   "source": [
    "## 5.1 Explorative Data Analysis\n",
    "* In statistics, exploratory data analysis (EDA) is an approach to analyzing data sets to summarize their main characteristics, often with visual methods. A statistical model can be used or not, but primarily EDA is for seeing what the data can tell us beyond the formal modeling or hypothesis testing task.<font color=red> Source:Wiki</font> "
   ]
  },
  {
   "cell_type": "code",
   "execution_count": null,
   "metadata": {},
   "outputs": [],
   "source": [
    "# importing CSV file as dataframe with date in ascending order\n",
    "df_EDA=pd.read_csv('C:/Users/dhame/ds_covid-19/data/processed/COVID_small_flat_table.csv',sep=';')\n",
    "df_EDA.sort_values('date',ascending=False).head()"
   ]
  },
  {
   "cell_type": "markdown",
   "metadata": {},
   "source": [
    "### 5.1.1 Plotting using Matplotlib package"
   ]
  },
  {
   "cell_type": "code",
   "execution_count": null,
   "metadata": {},
   "outputs": [],
   "source": [
    "ax=df_EDA.iloc[15:,:].set_index('date').plot()\n",
    "plt.ylim(10, 40000)\n",
    "ax.set_yscale('log')\n",
    "plt.show();"
   ]
  },
  {
   "cell_type": "code",
   "execution_count": null,
   "metadata": {},
   "outputs": [],
   "source": [
    "# save fig in local drive\n",
    "plt.savefig('C:/Users/dhame/ds_covid-19/data/processed/plot_of_5_countries.jpg')"
   ]
  },
  {
   "cell_type": "markdown",
   "metadata": {},
   "source": [
    "### 5.1.2 Plotting using Plotly package"
   ]
  },
  {
   "cell_type": "code",
   "execution_count": null,
   "metadata": {},
   "outputs": [],
   "source": [
    "country_list=['Italy','US','Spain','Germany','Korea, South'] "
   ]
  },
  {
   "cell_type": "code",
   "execution_count": null,
   "metadata": {},
   "outputs": [],
   "source": [
    "fig = go.Figure()\n",
    "for each in country_list:\n",
    "    fig.add_trace(go.Scatter(x=df_EDA.date,y=df_EDA[each],mode='markers+lines', opacity=1.0,line_width=2.5,marker_size=4,name=each))\n",
    "\n",
    "fig.update_layout(width=700,height=500,xaxis_title=\"Timeline in days\",\n",
    "    yaxis_title=\"Confirmed infected people (Source:Johns-hopkins csse, log-scale)\")\n",
    "fig.update_yaxes(type=\"log\",range=[1.1,5.5])\n",
    "fig.update_layout(xaxis_rangeslider_visible=True)\n",
    "fig.show()"
   ]
  },
  {
   "cell_type": "markdown",
   "metadata": {},
   "source": [
    "### 5.1.3 Development of dynamic and interactiveDashboard"
   ]
  },
  {
   "cell_type": "markdown",
   "metadata": {},
   "source": []
  },
  {
   "cell_type": "code",
   "execution_count": null,
   "metadata": {},
   "outputs": [],
   "source": [
    "# Create layout for dashboard for ex. Dropdown menu, multiple selection enabled etc.\n",
    "app = dash.Dash()\n",
    "app.layout = html.Div([\n",
    "    \n",
    "    html.Label('Multiple-selection of Country'),\n",
    "    dcc.Dropdown(\n",
    "        id='country_drop_down',\n",
    "        options=[{'label': 'Italy', 'value': 'Italy'},{'label': 'US', 'value': 'US'},{'label': 'Spain', 'value': 'Spain'},\n",
    "            {'label': 'Germany', 'value': 'Germany'},{'label': 'Korea, South', 'value': 'Korea, South'}],\n",
    "        value=['Germany','US'], # Country will be presented in default layout\n",
    "        multi=True),   \n",
    "        \n",
    "    dcc.Graph(figure=fig, id='main_window_slope')])"
   ]
  },
  {
   "cell_type": "code",
   "execution_count": null,
   "metadata": {},
   "outputs": [],
   "source": [
    "# when user selects other parameter than default in dashboard \\\n",
    "# then it makes changes according to that selection\n",
    "@app.callback(\n",
    "    Output('main_window_slope', 'figure'),\n",
    "    [Input('country_drop_down', 'value')])\n",
    "def update_figure(country_list):\n",
    "    traces = [] \n",
    "    for each in country_list:\n",
    "        traces.append(dict(x=df_EDA.date,y=df_EDA[each],mode='markers+lines',colorscale='Viridis',\n",
    "                           opacity=1.0,line_width=2.5,marker_size=4, name=each))\n",
    "        \n",
    "    return {\n",
    "            'data': traces,\n",
    "            'layout': dict (\n",
    "                width=1024,\n",
    "                height=800,\n",
    "                xaxis_title=\"Timeline in Days\",\n",
    "                yaxis_title=\"Confirmed infected people (Source:Jhons-hopkins csse, log-scale)\",\n",
    "                xaxis={'tickangle':-45,\n",
    "                        'nticks':20,\n",
    "                        'tickfont':dict(size=14,color=\"#e377c2\"),},\n",
    "                yaxis={'type':\"log\",\n",
    "                       'range':'[1.1,5.5]'})}"
   ]
  },
  {
   "cell_type": "code",
   "execution_count": null,
   "metadata": {},
   "outputs": [],
   "source": [
    "#Run the app in your browser\n",
    "app.run_server(debug=True, use_reloader=False)"
   ]
  },
  {
   "cell_type": "markdown",
   "metadata": {},
   "source": []
  }
 ],
 "metadata": {
  "kernelspec": {
   "display_name": "Python 3",
   "language": "python",
   "name": "python3"
  },
  "language_info": {
   "codemirror_mode": {
    "name": "ipython",
    "version": 3
   },
   "file_extension": ".py",
   "mimetype": "text/x-python",
   "name": "python",
   "nbconvert_exporter": "python",
   "pygments_lexer": "ipython3",
   "version": "3.7.1"
  }
 },
 "nbformat": 4,
 "nbformat_minor": 2
}
