{
 "cells": [
  {
   "cell_type": "markdown",
   "metadata": {},
   "source": [
    "![](CRISP_DM.png)"
   ]
  },
  {
   "cell_type": "code",
   "execution_count": null,
   "metadata": {},
   "outputs": [],
   "source": [
    "#Importing required packages\n",
    "import os\n",
    "import pandas as pd\n",
    "import numpy as np\n",
    "# import package for linear regression\n",
    "from sklearn import linear_model\n",
    "from scipy import signal\n",
    "# for plotting\n",
    "%matplotlib inline\n",
    "pd.set_option('display.max_rows', 500)\n",
    "import plotly.graph_objects as go\n",
    "import matplotlib as mpl\n",
    "import matplotlib.pyplot as plt\n",
    "mpl.rcParams['figure.figsize'] = (16, 10)"
   ]
  },
  {
   "cell_type": "code",
   "execution_count": null,
   "metadata": {},
   "outputs": [],
   "source": [
    "#Set a base path in such way that full execuation will be possible with one click\n",
    "if os.path.split(os.getcwd())[-1]=='notebooks':\n",
    "    os.chdir('C:/Users/dhame/ds_covid-19/')\n",
    "\n",
    "'Your base path for this project is: '+os.path.split(os.getcwd())[-1]"
   ]
  },
  {
   "cell_type": "code",
   "execution_count": null,
   "metadata": {
    "code_folding": [],
    "scrolled": true
   },
   "outputs": [],
   "source": [
    "# create dataframe from csv file\n",
    "df_analyse=pd.read_csv('data/processed/COVID_small_flat_table.csv',sep=';')  \n",
    "# Same as earlier notebook settings set date from starting in ascending order\n",
    "df_analyse.sort_values('date',ascending=True).head()\n",
    "#create country_list\n",
    "country_list=df_analyse.columns[1:]"
   ]
  },
  {
   "cell_type": "markdown",
   "metadata": {},
   "source": [
    "## 6.1 Helper functions\n",
    "* Create function in order to plot different values quickly and simililar format evaluation of a time series dataset.\n",
    "* In python function is a block of code which only runs when it is called. You can pass data, known as parameters, into a function. A function can return data, draw plot or perform action specified in function as a result."
   ]
  },
  {
   "cell_type": "code",
   "execution_count": null,
   "metadata": {
    "code_folding": []
   },
   "outputs": [],
   "source": [
    "# define quick_plotting function to plot time series dataset\n",
    "def quick_plotting(x_in, df_input,y_scale='log',slider=False):\n",
    "    fig = go.Figure()\n",
    "\n",
    "    for each in df_input.columns:\n",
    "        fig.add_trace(go.Scatter(x=x_in, y=df_input[each], name=each, opacity=1.0))\n",
    "    \n",
    "    fig.update_layout(autosize=True, width=800,height=800,xaxis_title = 'Timeline in days', \n",
    "                      yaxis_title = 'Confirmed infected people (Source:Johns-hopkins CSSE, log-scale)', \n",
    "                      font=dict(family=\"PT Sans, monospace\",size=14,color=\"#850303\"))\n",
    "    fig.update_yaxes(type=y_scale),\n",
    "    fig.update_xaxes(tickangle=-45,nticks=20,tickfont=dict(size=12,color=\"#850303\"))\n",
    "    if slider==True:\n",
    "        fig.update_layout(xaxis_rangeslider_visible=True)\n",
    "    fig.show()"
   ]
  },
  {
   "cell_type": "code",
   "execution_count": null,
   "metadata": {
    "scrolled": false
   },
   "outputs": [],
   "source": [
    "#test above created helper function\n",
    "quick_plotting(df_analyse.date,df_analyse.iloc[:,1:],y_scale='linear', slider=True)"
   ]
  },
  {
   "cell_type": "markdown",
   "metadata": {},
   "source": [
    "### 6.1.1 Modify dataframe stucture"
   ]
  },
  {
   "cell_type": "code",
   "execution_count": null,
   "metadata": {},
   "outputs": [],
   "source": [
    "# set threshold value for number of country (we want more than 100 countries's data)\n",
    "threshold=100\n",
    "# create empty list\n",
    "empty_list=[]\n",
    "# add data of more than 100 countries into empty list\n",
    "for pos,country in enumerate(df_analyse.columns[1:]):\n",
    "    empty_list.append(np.array(df_analyse[country][df_analyse[country]>threshold]))\n",
    "#convert list into dataframe and trnaspose it to put name of every country in column\n",
    "pd_sync_timeline=pd.DataFrame(empty_list,index=df_analyse.columns[1:]).T\n",
    "# add date column starting from 0\n",
    "pd_sync_timeline['date']=np.arange(pd_sync_timeline.shape[0])\n",
    "pd_sync_timeline.head()"
   ]
  },
  {
   "cell_type": "code",
   "execution_count": null,
   "metadata": {},
   "outputs": [],
   "source": [
    "# use helper function\n",
    "quick_plotting(pd_sync_timeline.date,pd_sync_timeline.iloc[:,:-1],y_scale='log',slider=True)"
   ]
  },
  {
   "cell_type": "markdown",
   "metadata": {},
   "source": [
    "## 6.2  Doubling Rate\n",
    "*  Formula: $N(t)=N_0*2^{t/T}$\n",
    "* The doubling time is time it takes for a population to double in size/value. It is applied to population growth, inflation, resource extraction, consumption of goods, compound interest, the volume of malignant tumours, and many other things that tend to grow over time. \n",
    "<font color=red> (Source:Wiki) <font>"
   ]
  },
  {
   "cell_type": "code",
   "execution_count": null,
   "metadata": {},
   "outputs": [],
   "source": [
    "# define function for calculating doubling rate\n",
    "def calc_doubling_rate(N_0,t,T_d):\n",
    "    return N_0*np.power(2,t/T_d)"
   ]
  },
  {
   "cell_type": "code",
   "execution_count": null,
   "metadata": {},
   "outputs": [],
   "source": [
    "# set max days value\n",
    "max_days=34\n",
    "#calculate doubling rate for different amount of interval\n",
    "norm_slopes={'doubling every two days':calc_doubling_rate(100,np.arange(20),2),\n",
    "    'doubling every 4 days':calc_doubling_rate(100,np.arange(20),4), 'doubling every 10 days':calc_doubling_rate(100,np.arange(20),10),}"
   ]
  },
  {
   "cell_type": "code",
   "execution_count": null,
   "metadata": {},
   "outputs": [],
   "source": [
    "# concatenate dataframes: first is list norm_slopes after converting into dataframe and seconds is our pd_sync_timelines\n",
    "pd_sync_timeline_with_slope=pd.concat([pd.DataFrame(norm_slopes),pd_sync_timeline], axis=1)\n",
    "pd_sync_timeline_with_slope.head()"
   ]
  },
  {
   "cell_type": "code",
   "execution_count": null,
   "metadata": {},
   "outputs": [],
   "source": [
    "# plot the dataframe with doubling rate\n",
    "quick_plotting(pd_sync_timeline_with_slope.date,pd_sync_timeline_with_slope.iloc[:,0:5],\n",
    "           y_scale='log',slider=True)"
   ]
  },
  {
   "cell_type": "code",
   "execution_count": null,
   "metadata": {},
   "outputs": [],
   "source": [
    "#save dataframe into CSV format into local drive\n",
    "pd_sync_timeline_with_slope.to_csv('data/processed/COVID_small_sync_timeline_table.csv',sep=';',index=False)"
   ]
  },
  {
   "cell_type": "markdown",
   "metadata": {},
   "source": [
    "## 6.3 Linear Regression\n",
    "* In statistics, linear regression is a linear approach to modeling the relationship between a scalar response and one or more explanatory variables. The case of one explanatory variable is called simple linear regression. For more than one explanatory variable, the process is called multiple linear regression."
   ]
  },
  {
   "cell_type": "code",
   "execution_count": null,
   "metadata": {},
   "outputs": [],
   "source": [
    "reg = linear_model.LinearRegression(fit_intercept=False)\n",
    "# we want try linear regression for the US \n",
    "l_vec=len(df_analyse['US'])\n",
    "X=np.arange(l_vec-5).reshape(-1, 1)\n",
    "y=np.log(np.array(df_analyse['US'][5:]))\n",
    "#fit the model\n",
    "reg.fit(X,y)"
   ]
  },
  {
   "cell_type": "code",
   "execution_count": null,
   "metadata": {},
   "outputs": [],
   "source": [
    "# calcaute the prediction \n",
    "X_hat=np.arange(l_vec).reshape(-1, 1)\n",
    "Y_hat=reg.predict(X_hat)"
   ]
  },
  {
   "cell_type": "code",
   "execution_count": null,
   "metadata": {},
   "outputs": [],
   "source": [
    "#Make a copy of old dataframe but including info of date & US column info\n",
    "LR=df_analyse[['date','US']].copy()\n",
    "# add predicted value in copied dataframe\n",
    "LR['prediction']=np.exp(Y_hat)"
   ]
  },
  {
   "cell_type": "code",
   "execution_count": null,
   "metadata": {},
   "outputs": [],
   "source": [
    "# plot the orginal dataset and predicted data from linear regression\n",
    "quick_plotting(LR.date,LR.iloc[:,1:],y_scale='log',slider=True)"
   ]
  },
  {
   "cell_type": "markdown",
   "metadata": {},
   "source": [
    "## 6.4 Piecewise Linear Regression\n",
    "* For a relationship between a response variable (Y) and an explanatory variable (X), different linear relationships may apply for different ranges of X. A single linear model will not provide an adequate description of the relationship. Often a non-linear model will be most appropriate in this situation, but sometimes there is a clear break point demarcating two different linear relationships. Piecewise linear regression is a form of regression that allows multiple linear models to be fitted to the data for different ranges of X.\n",
    "\n",
    "* The regression function at the breakpoint may be discontinuous, but it is possible to specify the model such that the model is continuous at all points. For such a model the two equations for Y need to be equal at the breakpoint. Non-linear least squares regression techniques can be used to fit the model to the data."
   ]
  },
  {
   "cell_type": "code",
   "execution_count": null,
   "metadata": {},
   "outputs": [],
   "source": [
    "regression = linear_model.LinearRegression(fit_intercept=True)"
   ]
  },
  {
   "cell_type": "code",
   "execution_count": null,
   "metadata": {},
   "outputs": [],
   "source": [
    "# import CSV file for creating dataframe and make country list by excluding first column\n",
    "df_analyse=pd.read_csv('data/processed/COVID_small_flat_table.csv',sep=';')  \n",
    "country_list=df_analyse.columns[1:]"
   ]
  },
  {
   "cell_type": "code",
   "execution_count": null,
   "metadata": {},
   "outputs": [],
   "source": [
    "# filter data using window size = 5 for filtering and order of fitted polynomial = 1\n",
    "for each in country_list:\n",
    "    df_analyse[each+'_filter']=signal.savgol_filter(df_analyse[each], 5, 1)"
   ]
  },
  {
   "cell_type": "code",
   "execution_count": null,
   "metadata": {},
   "outputs": [],
   "source": [
    "filter_cols=['Italy_filter','US_filter', 'Spain_filter', 'Germany_filter', 'Korea, South_filter']"
   ]
  },
  {
   "cell_type": "code",
   "execution_count": null,
   "metadata": {},
   "outputs": [],
   "source": [
    "start_pos=5\n",
    "quick_plotting(df_analyse.date[start_pos:],\n",
    "           df_analyse[filter_cols].iloc[start_pos:,:], #['US','US_filter']\n",
    "           y_scale='log',slider=True)"
   ]
  },
  {
   "cell_type": "code",
   "execution_count": null,
   "metadata": {},
   "outputs": [],
   "source": [
    "df_analyse.head()"
   ]
  },
  {
   "cell_type": "code",
   "execution_count": null,
   "metadata": {},
   "outputs": [],
   "source": [
    "# creating function for calculating doubling rate via regression\n",
    "def cal_doubling_time_using_regression(in_array):\n",
    "    ''' Use a linear regression to approximate the doubling rate'''  \n",
    "    y = np.array(in_array)\n",
    "    X = np.arange(-1,2).reshape(-1, 1)\n",
    "    \n",
    "    assert len(in_array)==3\n",
    "    reg.fit(X,y)\n",
    "    intercept=reg.intercept_\n",
    "    slope=reg.coef_  \n",
    "    return intercept/slope"
   ]
  },
  {
   "cell_type": "code",
   "execution_count": null,
   "metadata": {},
   "outputs": [],
   "source": [
    "# creating function for doubling time by using simply numpy package\n",
    "def cal_doubling_time(in_array):\n",
    "    ''' Use a classical doubling time formular, see https://en.wikipedia.org/wiki/Doubling_time '''\n",
    "    y = np.array(in_array)\n",
    "    return len(y)*np.log(2)/np.log(y[-1]/y[0])"
   ]
  },
  {
   "cell_type": "code",
   "execution_count": null,
   "metadata": {},
   "outputs": [],
   "source": [
    "# calculate slope of regression of last x days\n",
    "days_back = 3 # this gives a smoothing effect\n",
    "for pos,country in enumerate(country_list):\n",
    "    df_analyse[country+'_DR']=df_analyse[country].rolling(window=days_back,min_periods=days_back)\\\n",
    "    .apply(cal_doubling_time_using_regression, raw=False)"
   ]
  },
  {
   "cell_type": "code",
   "execution_count": null,
   "metadata": {},
   "outputs": [],
   "source": [
    "# run on all filtered data\n",
    "days_back = 3 \n",
    "for pos,country in enumerate(filter_cols):\n",
    "    df_analyse[country+'_DR']=df_analyse[country].rolling(window=days_back,min_periods=days_back)\\\n",
    "    .apply(cal_doubling_time_using_regression, raw=False)"
   ]
  },
  {
   "cell_type": "code",
   "execution_count": null,
   "metadata": {},
   "outputs": [],
   "source": [
    "# cross check the maths \n",
    "df_analyse['Germany_DR_cross_check']=df_analyse['Germany'].rolling(window=days_back,min_periods=days_back)\\\n",
    "    .apply(cal_doubling_time, raw=False)"
   ]
  },
  {
   "cell_type": "code",
   "execution_count": null,
   "metadata": {},
   "outputs": [],
   "source": [
    "# run on all filtered data\n",
    "days_back = 3 # this gives a smoothing effect\n",
    "for pos,country in enumerate(filter_cols):\n",
    "    df_analyse[country+'_DR']=df_analyse[country].rolling(window=days_back,min_periods=days_back)\\\n",
    "    .apply(cal_doubling_time_using_regression, raw=False)"
   ]
  },
  {
   "cell_type": "code",
   "execution_count": null,
   "metadata": {},
   "outputs": [],
   "source": [
    "# check the columns\n",
    "df_analyse.columns"
   ]
  },
  {
   "cell_type": "code",
   "execution_count": null,
   "metadata": {},
   "outputs": [],
   "source": [
    "start_pos=40\n",
    "quick_plotting(df_analyse.date[start_pos:],df_analyse.iloc[start_pos:,[11,12,13,14]], y_scale='linear',slider=True)"
   ]
  },
  {
   "cell_type": "code",
   "execution_count": null,
   "metadata": {},
   "outputs": [],
   "source": [
    "start_pos=40\n",
    "quick_plotting(df_analyse.date[start_pos:],\n",
    "           df_analyse.iloc[start_pos:,[16,17,18,19]], #17,18,19   # US comparison 12,17\n",
    "           y_scale='linear',slider=True)"
   ]
  },
  {
   "cell_type": "code",
   "execution_count": null,
   "metadata": {},
   "outputs": [],
   "source": []
  }
 ],
 "metadata": {
  "kernelspec": {
   "display_name": "Python 3",
   "language": "python",
   "name": "python3"
  },
  "language_info": {
   "codemirror_mode": {
    "name": "ipython",
    "version": 3
   },
   "file_extension": ".py",
   "mimetype": "text/x-python",
   "name": "python",
   "nbconvert_exporter": "python",
   "pygments_lexer": "ipython3",
   "version": "3.6.7"
  }
 },
 "nbformat": 4,
 "nbformat_minor": 2
}
