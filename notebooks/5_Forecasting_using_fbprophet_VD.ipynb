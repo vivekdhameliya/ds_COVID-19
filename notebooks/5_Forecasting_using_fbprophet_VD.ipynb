{
 "cells": [
  {
   "cell_type": "markdown",
   "metadata": {},
   "source": [
    "## 5.1 Forecasting - Facebook Prophet\n",
    "<font color=green> # Prophet is a procedure for forecasting time series data based on an additive model where non-linear trends are fit with yearly, weekly, and daily seasonality, plus holiday effects. It works best with time series that have strong seasonal effects and several seasons of historical data. Prophet is robust to missing data and shifts in the trend, and typically handles outliers well.</font> [Source: Facebook GitHub](https://facebook.github.io/prophet/)\n",
    "\n",
    "* [Prophet (FB Blog)-forecasting at scale](https://research.fb.com/blog/2017/02/prophet-forecasting-at-scale/)\n",
    "* [Forecasting at Scale](https://peerj.com/preprints/3190.pdf)"
   ]
  },
  {
   "cell_type": "code",
   "execution_count": null,
   "metadata": {},
   "outputs": [],
   "source": [
    "#importing required packages\n",
    "import pandas as pd\n",
    "import numpy as np\n",
    "import matplotlib as mpl\n",
    "import matplotlib.pyplot as plt\n",
    "%matplotlib inline\n",
    "mpl.rcParams['figure.figsize'] = (16, 10)\n",
    "pd.set_option('display.max_rows', 500)\n",
    "import plotly.graph_objects as go\n",
    "#plot the graph using plolty\n",
    "import plotly.offline as py\n",
    "from fbprophet import Prophet #attention might have problems with holiday package\n",
    "from fbprophet.plot import plot_cross_validation_metric\n",
    "from fbprophet.plot import plot_plotly \n",
    "from fbprophet.diagnostics import cross_validation\n",
    "from fbprophet.diagnostics import performance_metrics\n",
    "#The style package adds support for easy-to-switch plotting \"styles\" with \n",
    "## the same parameters as a matplotlib rc file (which is read at startup to configure matplotlib).\n",
    "%matplotlib inline\n",
    "plt.style.use('ggplot')"
   ]
  },
  {
   "cell_type": "code",
   "execution_count": null,
   "metadata": {},
   "outputs": [],
   "source": [
    "#Set a base path in such way that full execuation will be possible with one click\n",
    "if os.path.split(os.getcwd())[-1]=='notebooks':\n",
    "    os.chdir('C:/Users/dhame/ds_covid-19/')\n",
    "\n",
    "'Your base path for this project is: '+os.path.split(os.getcwd())[-1]"
   ]
  },
  {
   "cell_type": "markdown",
   "metadata": {},
   "source": [
    "## 5.2 Trivial Forecast (rolling mean)\n",
    "* In statistics, a moving average (rolling average or running average) is a calculation to analyze data points by creating a series of averages of different subsets of the full data set. It is also called a moving mean (MM) or rolling mean and is a type of finite impulse response filter.(Source: Wiki)"
   ]
  },
  {
   "cell_type": "code",
   "execution_count": null,
   "metadata": {},
   "outputs": [],
   "source": [
    "# generate an input df\n",
    "df = pd.DataFrame({'X': np.arange(0,10)})\n",
    "# take the window of 3 and write the average as y named column\n",
    "df['y']=df.rolling(3).mean() \n",
    "df.head()"
   ]
  },
  {
   "cell_type": "code",
   "execution_count": null,
   "metadata": {},
   "outputs": [],
   "source": [
    "# Import CSV file as dataframe\n",
    "df_all = pd.read_csv('/data/processed/COVID_small_flat_table.csv',sep=';')\n",
    "# select the data of only one country, here: germany \n",
    "df=df_all[['date','Germany']]\n",
    "# rename the column name \n",
    "df=df.rename(columns={'date': 'ds','Germany': 'y'})\n",
    "df.head()"
   ]
  },
  {
   "cell_type": "code",
   "execution_count": null,
   "metadata": {},
   "outputs": [],
   "source": [
    "ax = df.set_index('ds').plot(figsize=(12, 8), logy=True)\n",
    "ax.set_ylabel('Confimed cases per day')\n",
    "ax.set_xlabel('Timeline in Days')\n",
    "plt.show()"
   ]
  },
  {
   "cell_type": "code",
   "execution_count": null,
   "metadata": {},
   "outputs": [],
   "source": [
    "# set the uncertainty interval to 95% (the Prophet default is 80%)\n",
    "#my_model = Prophet(interval_width=0.95) # for piecwise linear model\n",
    "my_model = Prophet(growth='logistic')   # for logistic model"
   ]
  },
  {
   "cell_type": "code",
   "execution_count": null,
   "metadata": {},
   "outputs": [],
   "source": [
    "# the column 'cap' is only mandatory for the logistic model\n",
    "df['cap']=1000000.\n",
    "my_model.fit(df)"
   ]
  },
  {
   "cell_type": "code",
   "execution_count": null,
   "metadata": {},
   "outputs": [],
   "source": [
    "# define the periods and the frequency 'D'== days\n",
    "future_dates = my_model.make_future_dataframe(periods=7, freq='D')\n",
    "future_dates['cap']=1000000. # only mandatory for the logistic model"
   ]
  },
  {
   "cell_type": "code",
   "execution_count": null,
   "metadata": {},
   "outputs": [],
   "source": [
    "# predict according to the scikit-learn standard\n",
    "forecast = my_model.predict(future_dates)\n",
    "my_model.plot(forecast,uncertainty=True ); # fbprohet is also responisble for rendering the output"
   ]
  },
  {
   "cell_type": "code",
   "execution_count": null,
   "metadata": {},
   "outputs": [],
   "source": [
    "fig = plot_plotly(my_model, forecast)  \n",
    "fig.update_layout(width=1024,height=800,xaxis_title=\"Time\",yaxis_title=\"Confirmed infected people from johns hopkins csse, log-scale)\",)\n",
    "fig.update_yaxes(type=\"log\",range=[1.1,5.5])\n",
    "py.iplot(fig)"
   ]
  },
  {
   "cell_type": "code",
   "execution_count": null,
   "metadata": {
    "scrolled": true
   },
   "outputs": [],
   "source": [
    "# sorting the values according to column named ds\n",
    "forecast.sort_values(by='ds').head()"
   ]
  },
  {
   "cell_type": "code",
   "execution_count": null,
   "metadata": {},
   "outputs": [],
   "source": [
    "#plot the graphs\n",
    "my_model.plot_components(forecast);"
   ]
  },
  {
   "cell_type": "code",
   "execution_count": null,
   "metadata": {},
   "outputs": [],
   "source": [
    "forecast[['ds','trend']].set_index('ds').plot(figsize=(12, 8),logy=True)"
   ]
  },
  {
   "cell_type": "markdown",
   "metadata": {},
   "source": [
    "## 5.3 Cross-Validation\n",
    "* Cross-validation, sometimes called rotation estimation or out-of-sample testing, is any of various similar model validation techniques for assessing how the results of a statistical analysis will generalize to an independent data set. <font color=red>(source:WiKi)\n",
    "</font>"
   ]
  },
  {
   "cell_type": "code",
   "execution_count": null,
   "metadata": {},
   "outputs": [],
   "source": [
    "df_cv = cross_validation(my_model, \n",
    "                         initial='40 days', # we take the first 30 days for training\n",
    "                         period='1 days',  # every  days a new prediction run\n",
    "                         horizon = '7 days') #we predict 7days into the future"
   ]
  },
  {
   "cell_type": "code",
   "execution_count": null,
   "metadata": {},
   "outputs": [],
   "source": [
    "df_cv.sort_values(by=['cutoff','ds'])[0:12]\n",
    "df_cv.head()"
   ]
  },
  {
   "cell_type": "markdown",
   "metadata": {},
   "source": [
    "### 5.3.1 Performance matrix\n",
    "* The Performance Matrix displays the performance of each Metric in the Campaign relative to the Variations that the users in each Variation Group see. It provides a variety of powerful tools to assist you in determining exactly how users are responding to each of your tested Variations, individually and in combination."
   ]
  },
  {
   "cell_type": "code",
   "execution_count": null,
   "metadata": {},
   "outputs": [],
   "source": [
    "df_p = performance_metrics(df_cv)\n",
    "# the performance matrix shows the result for all horizon\n",
    "df_p"
   ]
  },
  {
   "cell_type": "code",
   "execution_count": null,
   "metadata": {},
   "outputs": [],
   "source": [
    "fig = plot_cross_validation_metric(df_cv, metric='mape',)"
   ]
  },
  {
   "cell_type": "markdown",
   "metadata": {},
   "source": [
    "## 5.4 Diagonalplot \n",
    "+ Gives a good understanding for the under and over estimation w.r.t. magnitude "
   ]
  },
  {
   "cell_type": "code",
   "execution_count": null,
   "metadata": {},
   "outputs": [],
   "source": [
    "horizon='7 days'\n",
    "df_cv['horizon']=df_cv.ds-df_cv.cutoff\n",
    "date_vec=df_cv[df_cv['horizon']==horizon]['ds']\n",
    "y_hat=df_cv[df_cv['horizon']==horizon]['yhat']\n",
    "y=df_cv[df_cv['horizon']==horizon]['y']"
   ]
  },
  {
   "cell_type": "code",
   "execution_count": null,
   "metadata": {},
   "outputs": [],
   "source": [
    "df_cv_7=df_cv[df_cv['horizon']==horizon]\n",
    "type(df_cv['horizon'][0])"
   ]
  },
  {
   "cell_type": "code",
   "execution_count": null,
   "metadata": {},
   "outputs": [],
   "source": [
    "# plotting the diagonal plot\n",
    "fig, ax = plt.subplots(1, 1)\n",
    "ax.plot(np.arange(max(y)),np.arange(max(y)),'--',label='diagonal')\n",
    "ax.plot(y,y_hat,'-',label=horizon)  # horizon is a np.timedelta objct\n",
    "\n",
    "ax.set_title('Diagonal Plot of forecasting')\n",
    "ax.set_ylim(10, max(y))\n",
    "ax.set_xlabel('Truth: y')\n",
    "ax.set_ylabel('Prediciton: y_hat')\n",
    "ax.set_yscale('log')\n",
    "ax.set_xlim(10, max(y))\n",
    "ax.set_xscale('log')\n",
    "ax.legend(loc='best',prop={'size': 16});"
   ]
  },
  {
   "cell_type": "markdown",
   "metadata": {},
   "source": [
    "## 5.5 Trivial Forecast\n",
    "* let's create a Example (using data of germany)of trivial forecast to predicit 7 days into the future"
   ]
  },
  {
   "cell_type": "code",
   "execution_count": null,
   "metadata": {},
   "outputs": [],
   "source": [
    "#defining function for mean absolute percentage error\n",
    "def MAPE(y_true, y_pred): \n",
    "    y_true, y_pred = np.array(y_true), np.array(y_pred)\n",
    "    return np.mean(np.abs((y_true - y_pred) / y_true)) * 100"
   ]
  },
  {
   "cell_type": "code",
   "execution_count": null,
   "metadata": {},
   "outputs": [],
   "source": [
    "parse_dates=['date']\n",
    "df_all = pd.read_csv('data/processed/COVID_small_flat_table.csv',sep=';',parse_dates=parse_dates)\n",
    "df_trivial=df_all[['date','Germany']]\n",
    "df_trivial=df_trivial.rename(columns={'date': 'ds','Germany': 'y'})"
   ]
  },
  {
   "cell_type": "markdown",
   "metadata": {},
   "source": [
    "### 5.5.1 One of the standard forecast: rolling mean \n",
    "+ In statistics, a moving average is a calculation to analyze data points by creating a series of averages of different subsets of the full data set.\n",
    "\n",
    "### 5.5.2 An other standard forecast: exponentially-weighted moving average\n",
    "+ An exponential moving average (EMA), also known as an exponentially weighted moving average (EWMA), is a first-order infinite impulse response filter that applies weighting factors which decrease exponentially. The weighting for each older datum decreases exponentially, never reaching zero."
   ]
  },
  {
   "cell_type": "code",
   "execution_count": null,
   "metadata": {},
   "outputs": [],
   "source": [
    "df_trivial['y_mean_r3']=df_trivial.y.rolling(3).mean() # take the average of 3 days"
   ]
  },
  {
   "cell_type": "code",
   "execution_count": null,
   "metadata": {},
   "outputs": [],
   "source": [
    "# the result has to be shifted according to the prediciton horizon (here 7 days)\n",
    "df_trivial['cutoff']=df_trivial['ds'].shift(7)\n",
    "df_trivial['y_hat']=df_trivial['y_mean_r3'].shift(7)\n",
    "df_trivial['horizon']=df_trivial['ds']-df_trivial['cutoff']\n",
    "print('MAPE: '+str(MAPE(df_trivial['y_hat'].iloc[12:,], df_trivial['y'].iloc[12:,])))\n",
    "df_trivial"
   ]
  }
 ],
 "metadata": {
  "kernelspec": {
   "display_name": "Python 3",
   "language": "python",
   "name": "python3"
  },
  "language_info": {
   "codemirror_mode": {
    "name": "ipython",
    "version": 3
   },
   "file_extension": ".py",
   "mimetype": "text/x-python",
   "name": "python",
   "nbconvert_exporter": "python",
   "pygments_lexer": "ipython3",
   "version": "3.6.7"
  }
 },
 "nbformat": 4,
 "nbformat_minor": 4
}
